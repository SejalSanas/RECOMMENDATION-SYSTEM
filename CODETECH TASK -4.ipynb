{
 "cells": [
  {
   "cell_type": "markdown",
   "id": "8a36f823",
   "metadata": {},
   "source": [
    "#### INTERN:-Sejal Rahul Sanas\n",
    "\n",
    "*Intern ID:- CT4MGAE\n",
    "\n",
    "*Domain:- Machine Learning\n",
    "\n",
    "*Duration:-January 20, 2025, to May 20, 2025\n",
    "\n",
    "*Company:- CODETECH IT SOLUTIONS\n",
    "\n",
    "*Mentor:- Neela Santhosh Kumar\n"
   ]
  },
  {
   "cell_type": "markdown",
   "id": "ae633bbd",
   "metadata": {},
   "source": [
    "#### TASK FOUR:RECOMMENDATION SYSTEM\n",
    "##### BUILD A RECOMMENDATION SYSTEM USING COLLABORATIVE FILTERING OR MATRIX FACTORIZATION\n",
    "#### DELIVERABLE: A NOTEBOOK OR APP SHOWCASING RECOMMENDATION RESULTS AND EVALUATION METRICS.\n"
   ]
  },
  {
   "cell_type": "code",
   "execution_count": 1,
   "id": "9747d18f",
   "metadata": {},
   "outputs": [],
   "source": [
    "import pandas as pd\n",
    "import numpy as np\n",
    "from sklearn.metrics.pairwise import cosine_similarity\n",
    "from sklearn.metrics import mean_squared_error\n",
    "from math import sqrt\n"
   ]
  },
  {
   "cell_type": "code",
   "execution_count": 2,
   "id": "8762ff28",
   "metadata": {},
   "outputs": [],
   "source": [
    "# Sample dataset: User-Item Ratings\n",
    "ratings_data = {\n",
    "    'User': ['A', 'A', 'B', 'B', 'C', 'C', 'D', 'D'],\n",
    "    'Item': ['Item1', 'Item2', 'Item1', 'Item3', 'Item2', 'Item3', 'Item1', 'Item3'],\n",
    "    'Rating': [15, 23, 14, 74, 13, 19,14, 12]\n",
    "}\n",
    "ratings_df = pd.DataFrame(ratings_data)\n"
   ]
  },
  {
   "cell_type": "code",
   "execution_count": 3,
   "id": "61430990",
   "metadata": {},
   "outputs": [
    {
     "name": "stdout",
     "output_type": "stream",
     "text": [
      "User-Item Matrix:\n",
      "Item  Item1  Item2  Item3\n",
      "User                     \n",
      "A      15.0   23.0    0.0\n",
      "B      14.0    0.0   74.0\n",
      "C       0.0   13.0   19.0\n",
      "D      14.0    0.0   12.0\n"
     ]
    }
   ],
   "source": [
    "# Pivot the data to create a User-Item matrix\n",
    "user_item_matrix = ratings_df.pivot(index='User', columns='Item', values='Rating').fillna(0)\n",
    "print(\"User-Item Matrix:\")\n",
    "print(user_item_matrix)\n"
   ]
  },
  {
   "cell_type": "code",
   "execution_count": 4,
   "id": "b160842f",
   "metadata": {},
   "outputs": [
    {
     "name": "stdout",
     "output_type": "stream",
     "text": [
      "\n",
      "User Similarity Matrix:\n",
      "User         A         B         C         D\n",
      "User                                        \n",
      "A     1.000000  0.101547  0.472985  0.414757\n",
      "B     0.101547  1.000000  0.810922  0.780588\n",
      "C     0.472985  0.810922  1.000000  0.537103\n",
      "D     0.414757  0.780588  0.537103  1.000000\n"
     ]
    }
   ],
   "source": [
    "# Calculate cosine similarity between users\n",
    "user_similarity = cosine_similarity(user_item_matrix)\n",
    "user_similarity_df = pd.DataFrame(user_similarity, index=user_item_matrix.index, columns=user_item_matrix.index)\n",
    "print(\"\\nUser Similarity Matrix:\")\n",
    "print(user_similarity_df)\n"
   ]
  },
  {
   "cell_type": "code",
   "execution_count": 5,
   "id": "0c2cfd4a",
   "metadata": {},
   "outputs": [],
   "source": [
    "# Function to predict ratings based on user similarity\n",
    "def predict_ratings(user_item_matrix, similarity_matrix):\n",
    "    predictions = np.zeros(user_item_matrix.shape)\n",
    "    for i in range(user_item_matrix.shape[0]):  # For each user\n",
    "        for j in range(user_item_matrix.shape[1]):  # For each item\n",
    "            # Only predict if the user hasn't rated the item\n",
    "            if user_item_matrix.iloc[i, j] == 0:\n",
    "                # Weighted sum of ratings by similar users\n",
    "                numerator = np.dot(similarity_matrix[i], user_item_matrix.iloc[:, j])\n",
    "                denominator = np.sum(similarity_matrix[i])\n",
    "                predictions[i, j] = numerator / denominator if denominator != 0 else 0\n",
    "            else:\n",
    "                predictions[i, j] = user_item_matrix.iloc[i, j]\n",
    "    return predictions\n"
   ]
  },
  {
   "cell_type": "code",
   "execution_count": 6,
   "id": "cdabaeef",
   "metadata": {},
   "outputs": [
    {
     "name": "stdout",
     "output_type": "stream",
     "text": [
      "\n",
      "Predicted Ratings:\n",
      "Item      Item1      Item2      Item3\n",
      "User                                 \n",
      "A     15.000000  23.000000  10.796951\n",
      "B     14.000000   4.781765  74.000000\n",
      "C      9.204904  13.000000  19.000000\n",
      "D     14.000000   6.046504  12.000000\n"
     ]
    }
   ],
   "source": [
    "# Predict ratings\n",
    "predicted_ratings = predict_ratings(user_item_matrix, user_similarity)\n",
    "predicted_ratings_df = pd.DataFrame(predicted_ratings, index=user_item_matrix.index, columns=user_item_matrix.columns)\n",
    "print(\"\\nPredicted Ratings:\")\n",
    "print(predicted_ratings_df)\n"
   ]
  },
  {
   "cell_type": "code",
   "execution_count": 7,
   "id": "e403539c",
   "metadata": {},
   "outputs": [],
   "source": [
    "# Evaluate the system using Root Mean Square Error (RMSE)\n",
    "def calculate_rmse(actual, predicted):\n",
    "    # Flatten matrices and calculate RMSE\n",
    "    actual_flat = actual.values.flatten()\n",
    "    predicted_flat = predicted.values.flatten()\n",
    "    mse = mean_squared_error(actual_flat, predicted_flat)\n",
    "    return sqrt(mse)\n"
   ]
  },
  {
   "cell_type": "code",
   "execution_count": 8,
   "id": "160136df",
   "metadata": {},
   "outputs": [
    {
     "name": "stdout",
     "output_type": "stream",
     "text": [
      "\n",
      "Recommendation System RMSE: 4.66\n"
     ]
    }
   ],
   "source": [
    "# Example evaluation (Assuming predicted_ratings is compared to original ratings_df)\n",
    "evaluation_matrix = user_item_matrix.copy()\n",
    "evaluation_rmse = calculate_rmse(evaluation_matrix, predicted_ratings_df)\n",
    "print(f\"\\nRecommendation System RMSE: {evaluation_rmse:.2f}\")\n"
   ]
  },
  {
   "cell_type": "code",
   "execution_count": 9,
   "id": "f1435421",
   "metadata": {},
   "outputs": [],
   "source": [
    "# Recommend top-N items for each user\n",
    "def recommend_items(predicted_ratings_df, n=2):\n",
    "    recommendations = {}\n",
    "    for user in predicted_ratings_df.index:\n",
    "        sorted_items = predicted_ratings_df.loc[user].sort_values(ascending=False)\n",
    "        recommendations[user] = sorted_items.head(n).index.tolist()\n",
    "    return recommendations\n"
   ]
  },
  {
   "cell_type": "code",
   "execution_count": 10,
   "id": "e30ed9d8",
   "metadata": {},
   "outputs": [
    {
     "name": "stdout",
     "output_type": "stream",
     "text": [
      "\n",
      "Top-2 Recommendations for Each User:\n",
      "User A: ['Item2', 'Item1']\n",
      "User B: ['Item3', 'Item1']\n",
      "User C: ['Item3', 'Item2']\n",
      "User D: ['Item1', 'Item3']\n"
     ]
    }
   ],
   "source": [
    "# Get top-2 recommendations for each user\n",
    "recommendations = recommend_items(predicted_ratings_df, n=2)\n",
    "print(\"\\nTop-2 Recommendations for Each User:\")\n",
    "for user, items in recommendations.items():\n",
    "    print(f\"User {user}: {items}\")"
   ]
  },
  {
   "cell_type": "markdown",
   "id": "e7fd2f95",
   "metadata": {},
   "source": [
    "#!/usr/bin/env python\n",
    "\n",
    "#coding: utf-8"
   ]
  }
 ],
 "metadata": {
  "kernelspec": {
   "display_name": "Python 3 (ipykernel)",
   "language": "python",
   "name": "python3"
  },
  "language_info": {
   "codemirror_mode": {
    "name": "ipython",
    "version": 3
   },
   "file_extension": ".py",
   "mimetype": "text/x-python",
   "name": "python",
   "nbconvert_exporter": "python",
   "pygments_lexer": "ipython3",
   "version": "3.11.4"
  }
 },
 "nbformat": 4,
 "nbformat_minor": 5
}
